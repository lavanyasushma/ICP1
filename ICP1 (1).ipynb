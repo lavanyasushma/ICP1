{
  "nbformat": 4,
  "nbformat_minor": 0,
  "metadata": {
    "colab": {
      "provenance": []
    },
    "kernelspec": {
      "name": "python3",
      "display_name": "Python 3"
    },
    "language_info": {
      "name": "python"
    }
  },
  "cells": [
    {
      "cell_type": "code",
      "source": [
        "def fullname(first_name, last_name):\n",
        "    \"\"\"Combine first name and last name into a full name.\"\"\"\n",
        "    return f\"{first_name} {last_name}\"\n",
        "\n",
        "def string_alternative(full_name):\n",
        "    \"\"\"Return every other character in the full name string.\"\"\"\n",
        "    return full_name[::2]\n",
        "\n",
        "def main():\n",
        "    # Get user input for first name and last name\n",
        "    first_name = input(\"Enter your first name: \")\n",
        "    last_name = input(\"Enter your last name: \")\n",
        "\n",
        "    # Generate full name\n",
        "    full_name = fullname(first_name, last_name)\n",
        "\n",
        "    # Generate the string with every other character\n",
        "    result = string_alternative(full_name)\n",
        "\n",
        "    # Output the results\n",
        "    print(\"Full name:\", full_name)\n",
        "    print(\"Every other character:\", result)\n",
        "\n",
        "# Run the main function if this script is executed\n",
        "if __name__ == \"__main__\":\n",
        "    main()\n"
      ],
      "metadata": {
        "id": "ljnGAN6ZC4mj",
        "colab": {
          "base_uri": "https://localhost:8080/"
        },
        "outputId": "301ce4ae-ffaf-42c1-889c-aa24ea3c051d"
      },
      "execution_count": 3,
      "outputs": [
        {
          "output_type": "stream",
          "name": "stdout",
          "text": [
            "Enter your first name: lavanya\n",
            "Enter your last name: sushma\n",
            "Full name: lavanya sushma\n",
            "Every other character: lvnassm\n"
          ]
        }
      ]
    },
    {
      "cell_type": "code",
      "source": [
        "# Function to convert inches to centimeters\n",
        "def inches_to_cm(inches):\n",
        "    return inches * 2.54\n",
        "\n",
        "# List to store heights in inches\n",
        "heights_in_inches = []\n",
        "\n",
        "# Read heights from user input\n",
        "print(\"Enter heights in inches (type 'done' to finish):\")\n",
        "while True:\n",
        "    height = input(\"Height (inches): \")\n",
        "    if height.lower() == 'done':\n",
        "        break\n",
        "    try:\n",
        "        height = float(height)\n",
        "        heights_in_inches.append(height)\n",
        "    except ValueError:\n",
        "        print(\"Please enter a valid number.\")\n",
        "\n",
        "# Convert heights to centimeters\n",
        "heights_in_cm = []\n",
        "for height in heights_in_inches:\n",
        "    cm = inches_to_cm(height)\n",
        "    heights_in_cm.append(cm)\n",
        "\n",
        "# Print the results\n",
        "print(\"Heights in centimeters:\")\n",
        "for cm in heights_in_cm:\n",
        "    print(f\"{cm:.2f}\")\n"
      ],
      "metadata": {
        "colab": {
          "base_uri": "https://localhost:8080/"
        },
        "id": "Lp3E2FjQQmLB",
        "outputId": "1705d682-9756-4d6a-a432-61941f459bca"
      },
      "execution_count": 18,
      "outputs": [
        {
          "output_type": "stream",
          "name": "stdout",
          "text": [
            "Enter heights in inches (type 'done' to finish):\n",
            "Height (inches): 5.3\n",
            "Height (inches): 6.2\n",
            "Height (inches): done\n",
            "Heights in centimeters:\n",
            "13.46\n",
            "15.75\n"
          ]
        }
      ]
    },
    {
      "cell_type": "code",
      "source": [
        "Input_file = open(\"input.txt\", \"r\")\n",
        "#Write the number of words count and split the data from input file\n",
        "output_file = open(\"output.txt\", \"w\")\n",
        "\n",
        "content = {}\n",
        "\n",
        "\n",
        "for line in Input_file:\n",
        "    output_file.write(line)\n",
        "    new_l = line.split()\n",
        "    for x in new_l:\n",
        "        if(content.get(x)==None):\n",
        "            content[x]=1\n",
        "        else:\n",
        "            content[x] = content[x] + 1\n",
        "\n",
        "output_file.write(\" Word_Count : \")\n",
        "for key, value in content.items():\n",
        "        output_file.write('%s:%s\\n' % (key, value))\n",
        "Input_file.close()\n",
        "output_file.close()"
      ],
      "metadata": {
        "id": "iPTPZ67wYm3T"
      },
      "execution_count": null,
      "outputs": []
    },
    {
      "cell_type": "markdown",
      "source": [],
      "metadata": {
        "id": "UuTpUA2fC5hC"
      }
    }
  ]
}